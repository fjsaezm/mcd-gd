{
 "cells": [
  {
   "cell_type": "code",
   "execution_count": 1,
   "id": "ad3cc29f",
   "metadata": {},
   "outputs": [],
   "source": [
    "import pandas as pd"
   ]
  },
  {
   "cell_type": "code",
   "execution_count": 2,
   "id": "e223e5f2",
   "metadata": {},
   "outputs": [],
   "source": [
    "ccaa_complete_names = {\n",
    "    'AN': 'Andalucía',\n",
    "    'AR': 'Aragón',\n",
    "    'AS': 'Principado de Asturias',\n",
    "    'CN': 'Canarias',\n",
    "    'CB': 'Cantabria',\n",
    "    'CM': 'Castilla-La Mancha',\n",
    "    'CL': 'Castilla y León',\n",
    "    'CT': 'Cataluña',\n",
    "    'EX': 'Extremadura',\n",
    "    'GA': 'Galicia',\n",
    "    'IB': 'Islas Baleares',\n",
    "    'RI': 'La Rioja (Spain)',\n",
    "    'MD': 'Comunidad de Madrid',\n",
    "    'MC': 'Región de Murcia',\n",
    "    'NC': 'Comunidad Foral de Navarra',\n",
    "    'PV': 'País Vasco',\n",
    "    'VC': 'Comunidad Valenciana',\n",
    "    'CE': 'Ceuta',\n",
    "    'ML': 'Melilla'\n",
    "}"
   ]
  },
  {
   "cell_type": "code",
   "execution_count": 3,
   "id": "0d923815",
   "metadata": {},
   "outputs": [],
   "source": [
    "df = pd.read_csv(\"casos_diagnostico_ccaa.csv\")"
   ]
  },
  {
   "cell_type": "code",
   "execution_count": 4,
   "id": "2ed82dd2",
   "metadata": {},
   "outputs": [
    {
     "data": {
      "text/html": [
       "<div>\n",
       "<style scoped>\n",
       "    .dataframe tbody tr th:only-of-type {\n",
       "        vertical-align: middle;\n",
       "    }\n",
       "\n",
       "    .dataframe tbody tr th {\n",
       "        vertical-align: top;\n",
       "    }\n",
       "\n",
       "    .dataframe thead th {\n",
       "        text-align: right;\n",
       "    }\n",
       "</style>\n",
       "<table border=\"1\" class=\"dataframe\">\n",
       "  <thead>\n",
       "    <tr style=\"text-align: right;\">\n",
       "      <th></th>\n",
       "      <th>ccaa_iso</th>\n",
       "      <th>fecha</th>\n",
       "      <th>num_casos</th>\n",
       "      <th>num_casos_prueba_pcr</th>\n",
       "      <th>num_casos_prueba_test_ac</th>\n",
       "      <th>num_casos_prueba_ag</th>\n",
       "      <th>num_casos_prueba_elisa</th>\n",
       "      <th>num_casos_prueba_desconocida</th>\n",
       "    </tr>\n",
       "  </thead>\n",
       "  <tbody>\n",
       "    <tr>\n",
       "      <th>0</th>\n",
       "      <td>AN</td>\n",
       "      <td>2020-01-01</td>\n",
       "      <td>0</td>\n",
       "      <td>0</td>\n",
       "      <td>0</td>\n",
       "      <td>0</td>\n",
       "      <td>0</td>\n",
       "      <td>0</td>\n",
       "    </tr>\n",
       "    <tr>\n",
       "      <th>1</th>\n",
       "      <td>AR</td>\n",
       "      <td>2020-01-01</td>\n",
       "      <td>0</td>\n",
       "      <td>0</td>\n",
       "      <td>0</td>\n",
       "      <td>0</td>\n",
       "      <td>0</td>\n",
       "      <td>0</td>\n",
       "    </tr>\n",
       "    <tr>\n",
       "      <th>2</th>\n",
       "      <td>AS</td>\n",
       "      <td>2020-01-01</td>\n",
       "      <td>0</td>\n",
       "      <td>0</td>\n",
       "      <td>0</td>\n",
       "      <td>0</td>\n",
       "      <td>0</td>\n",
       "      <td>0</td>\n",
       "    </tr>\n",
       "    <tr>\n",
       "      <th>3</th>\n",
       "      <td>CB</td>\n",
       "      <td>2020-01-01</td>\n",
       "      <td>0</td>\n",
       "      <td>0</td>\n",
       "      <td>0</td>\n",
       "      <td>0</td>\n",
       "      <td>0</td>\n",
       "      <td>0</td>\n",
       "    </tr>\n",
       "    <tr>\n",
       "      <th>4</th>\n",
       "      <td>CE</td>\n",
       "      <td>2020-01-01</td>\n",
       "      <td>1</td>\n",
       "      <td>0</td>\n",
       "      <td>0</td>\n",
       "      <td>1</td>\n",
       "      <td>0</td>\n",
       "      <td>0</td>\n",
       "    </tr>\n",
       "  </tbody>\n",
       "</table>\n",
       "</div>"
      ],
      "text/plain": [
       "  ccaa_iso       fecha  num_casos  num_casos_prueba_pcr  \\\n",
       "0       AN  2020-01-01          0                     0   \n",
       "1       AR  2020-01-01          0                     0   \n",
       "2       AS  2020-01-01          0                     0   \n",
       "3       CB  2020-01-01          0                     0   \n",
       "4       CE  2020-01-01          1                     0   \n",
       "\n",
       "   num_casos_prueba_test_ac  num_casos_prueba_ag  num_casos_prueba_elisa  \\\n",
       "0                         0                    0                       0   \n",
       "1                         0                    0                       0   \n",
       "2                         0                    0                       0   \n",
       "3                         0                    0                       0   \n",
       "4                         0                    1                       0   \n",
       "\n",
       "   num_casos_prueba_desconocida  \n",
       "0                             0  \n",
       "1                             0  \n",
       "2                             0  \n",
       "3                             0  \n",
       "4                             0  "
      ]
     },
     "execution_count": 4,
     "metadata": {},
     "output_type": "execute_result"
    }
   ],
   "source": [
    "df.head()"
   ]
  },
  {
   "cell_type": "code",
   "execution_count": 5,
   "id": "5eee9723",
   "metadata": {},
   "outputs": [],
   "source": [
    "column_names = [\"CCAA\", \n",
    "                \"Fecha\", \n",
    "                \"Casos confirmados\",\n",
    "                \"Confirmados por PCR\", \n",
    "                \"Confirmados por prueba Anticuerpos\",\n",
    "                \"Confirmados por  test antígenos\" ,\n",
    "                \"Confirmados por test serología\",\n",
    "                \"Confirmados prueba desconocida\" ]\n",
    "\n",
    "df.columns = column_names"
   ]
  },
  {
   "cell_type": "code",
   "execution_count": 6,
   "id": "9e6b1b42",
   "metadata": {},
   "outputs": [
    {
     "name": "stdout",
     "output_type": "stream",
     "text": [
      "['AN' 'AR' 'AS' 'CB' 'CE' 'CL' 'CM' 'CN' 'CT' 'EX' 'GA' 'IB' 'MC' 'MD'\n",
      " 'ML' 'NC' 'PV' 'RI' 'VC']\n"
     ]
    }
   ],
   "source": [
    "print(df[\"CCAA\"].unique())\n"
   ]
  },
  {
   "cell_type": "code",
   "execution_count": 7,
   "id": "9677c956",
   "metadata": {},
   "outputs": [
    {
     "name": "stdout",
     "output_type": "stream",
     "text": [
      "['Andalucía' 'Aragón' 'Principado de Asturias' 'Cantabria' 'Ceuta'\n",
      " 'Castilla y León' 'Castilla-La Mancha' 'Canarias' 'Cataluña'\n",
      " 'Extremadura' 'Galicia' 'Islas Baleares' 'Región de Murcia'\n",
      " 'Comunidad de Madrid' 'Melilla' 'Comunidad Foral de Navarra' 'País Vasco'\n",
      " 'La Rioja (Spain)' 'Comunidad Valenciana']\n"
     ]
    }
   ],
   "source": [
    "df[\"CCAA\"] = df['CCAA'].map(ccaa_complete_names)\n",
    "print(df[\"CCAA\"].unique())"
   ]
  },
  {
   "cell_type": "code",
   "execution_count": 8,
   "id": "be0f317a",
   "metadata": {},
   "outputs": [
    {
     "name": "stdout",
     "output_type": "stream",
     "text": [
      "CCAA                                  False\n",
      "Fecha                                 False\n",
      "Casos confirmados                     False\n",
      "Confirmados por PCR                   False\n",
      "Confirmados por prueba Anticuerpos    False\n",
      "Confirmados por  test antígenos       False\n",
      "Confirmados por test serología        False\n",
      "Confirmados prueba desconocida        False\n",
      "dtype: bool\n"
     ]
    }
   ],
   "source": [
    "print(df.isna().any())"
   ]
  },
  {
   "cell_type": "code",
   "execution_count": 9,
   "id": "c1c22287",
   "metadata": {},
   "outputs": [
    {
     "name": "stdout",
     "output_type": "stream",
     "text": [
      "False\n"
     ]
    }
   ],
   "source": [
    "print(df.duplicated().any()) "
   ]
  },
  {
   "cell_type": "code",
   "execution_count": 10,
   "id": "5b54be56",
   "metadata": {},
   "outputs": [],
   "source": [
    "df.to_csv('preprocessed_data.csv', index=False)"
   ]
  },
  {
   "cell_type": "code",
   "execution_count": null,
   "id": "e8ec9cc1",
   "metadata": {},
   "outputs": [],
   "source": []
  }
 ],
 "metadata": {
  "kernelspec": {
   "display_name": "Python 3 (ipykernel)",
   "language": "python",
   "name": "python3"
  },
  "language_info": {
   "codemirror_mode": {
    "name": "ipython",
    "version": 3
   },
   "file_extension": ".py",
   "mimetype": "text/x-python",
   "name": "python",
   "nbconvert_exporter": "python",
   "pygments_lexer": "ipython3",
   "version": "3.9.7"
  }
 },
 "nbformat": 4,
 "nbformat_minor": 5
}
